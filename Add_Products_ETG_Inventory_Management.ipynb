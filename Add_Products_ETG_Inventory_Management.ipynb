{
 "cells": [
  {
   "cell_type": "code",
   "execution_count": 1,
   "id": "2fd8565b",
   "metadata": {},
   "outputs": [],
   "source": [
    "record = {'1001': {'name': 'Choco Cake', 'pr': 80, 'qn': 34},\n",
    "         '1002': {'name': 'Milk Cake', 'pr': 500, 'qn': 100},\n",
    "         '1003': {'name': 'Drink', 'pr': 35, 'qn': 100},\n",
    "         '1004': {'name': 'Candy', 'pr': 5, 'qn': 1000},\n",
    "         '1005': {'name': 'Pen', 'pr': 15, 'qn': 100},\n",
    "         '1006': {'name': 'Rice', 'pr': 120, 'qn': 10},\n",
    "         '1007': {'name': 'wheat', 'pr': 30, 'qn': 0},\n",
    "         '1008': {'name': 'Sugar', 'pr': 38, 'qn': 5},\n",
    "         '1009': {'name': 'tea','pr': 15,'qn': 20}}"
   ]
  },
  {
   "cell_type": "code",
   "execution_count": 41,
   "id": "acc60323",
   "metadata": {},
   "outputs": [
    {
     "data": {
      "text/plain": [
       "{'1001': {'name': 'Choco Cake', 'pr': 80, 'qn': 34},\n",
       " '1002': {'name': 'Milk Cake', 'pr': 500, 'qn': 100},\n",
       " '1003': {'name': 'Drink', 'pr': 35, 'qn': 100},\n",
       " '1004': {'name': 'Candy', 'pr': 5, 'qn': 1000},\n",
       " '1005': {'name': 'Pen', 'pr': 15, 'qn': 100},\n",
       " '1006': {'name': 'Rice', 'pr': 120, 'qn': 10},\n",
       " '1007': {'name': 'wheat', 'pr': 30, 'qn': 0},\n",
       " '1008': {'name': 'Sugar', 'pr': 38, 'qn': 5},\n",
       " '1009': {'name': 'tea', 'pr': 15, 'qn': 20},\n",
       " 1010: {'name': 'brush', 'pr': 20, 'qn': 100},\n",
       " 1011: {'name': 'toothpaste', 'pr': 20, 'qn': 100},\n",
       " 1012: {'name': 'biscuit ', 'pr': 30, 'qn': 0},\n",
       " 1013: {'name': 'edible oil', 'pr': 120, 'qn': 50},\n",
       " 1014: {'name': 'coconut oil', 'pr': 20, 'qn': 30},\n",
       " 1015: {'name': 'shampoo', 'pr': 15, 'qn': 30},\n",
       " 1016: {'name': 'milk', 'pr': 26, 'qn': 60},\n",
       " 1017: {'name': 'chat masala ', 'pr': 12, 'qn': 50},\n",
       " 1018: {'name': 'chilli powder', 'pr': 30, 'qn': 70},\n",
       " 1019: {'name': 'matchstick', 'pr': 19, 'qn': 150},\n",
       " 1020: {'name': 'salt', 'pr': 40, 'qn': 60},\n",
       " 1021: {'name': 'bread', 'pr': 20, 'qn': 50},\n",
       " 1022: {'name': 'ghee', 'pr': 120, 'qn': 20},\n",
       " 1023: {'name': 'buttermilk', 'pr': 16, 'qn': 40},\n",
       " 1024: {'name': 'butter ', 'pr': 10, 'qn': 50},\n",
       " 1025: {'name': 'cheese ', 'pr': 12, 'qn': 60},\n",
       " 1026: {'name': 'paneer ', 'pr': 38, 'qn': 27},\n",
       " 1027: {'name': 'lassi ', 'pr': 20, 'qn': 0},\n",
       " 1028: {'name': 'icecream ', 'pr': 30, 'qn': 25},\n",
       " 1029: {'name': 'shrikhand ', 'pr': 70, 'qn': 30},\n",
       " 1030: {'name': 'soup', 'pr': 15, 'qn': 0}}"
      ]
     },
     "execution_count": 41,
     "metadata": {},
     "output_type": "execute_result"
    }
   ],
   "source": [
    "record"
   ]
  },
  {
   "cell_type": "code",
   "execution_count": 42,
   "id": "4a6e33ef",
   "metadata": {},
   "outputs": [],
   "source": [
    "import json"
   ]
  },
  {
   "cell_type": "code",
   "execution_count": 43,
   "id": "513f2e12",
   "metadata": {},
   "outputs": [],
   "source": [
    "js=json.dumps(record)"
   ]
  },
  {
   "cell_type": "code",
   "execution_count": 44,
   "id": "b053d2e7",
   "metadata": {},
   "outputs": [
    {
     "data": {
      "text/plain": [
       "'{\"1001\": {\"name\": \"Choco Cake\", \"pr\": 80, \"qn\": 34}, \"1002\": {\"name\": \"Milk Cake\", \"pr\": 500, \"qn\": 100}, \"1003\": {\"name\": \"Drink\", \"pr\": 35, \"qn\": 100}, \"1004\": {\"name\": \"Candy\", \"pr\": 5, \"qn\": 1000}, \"1005\": {\"name\": \"Pen\", \"pr\": 15, \"qn\": 100}, \"1006\": {\"name\": \"Rice\", \"pr\": 120, \"qn\": 10}, \"1007\": {\"name\": \"wheat\", \"pr\": 30, \"qn\": 0}, \"1008\": {\"name\": \"Sugar\", \"pr\": 38, \"qn\": 5}, \"1009\": {\"name\": \"tea\", \"pr\": 15, \"qn\": 20}, \"1010\": {\"name\": \"brush\", \"pr\": 20, \"qn\": 100}, \"1011\": {\"name\": \"toothpaste\", \"pr\": 20, \"qn\": 100}, \"1012\": {\"name\": \"biscuit \", \"pr\": 30, \"qn\": 0}, \"1013\": {\"name\": \"edible oil\", \"pr\": 120, \"qn\": 50}, \"1014\": {\"name\": \"coconut oil\", \"pr\": 20, \"qn\": 30}, \"1015\": {\"name\": \"shampoo\", \"pr\": 15, \"qn\": 30}, \"1016\": {\"name\": \"milk\", \"pr\": 26, \"qn\": 60}, \"1017\": {\"name\": \"chat masala \", \"pr\": 12, \"qn\": 50}, \"1018\": {\"name\": \"chilli powder\", \"pr\": 30, \"qn\": 70}, \"1019\": {\"name\": \"matchstick\", \"pr\": 19, \"qn\": 150}, \"1020\": {\"name\": \"salt\", \"pr\": 40, \"qn\": 60}, \"1021\": {\"name\": \"bread\", \"pr\": 20, \"qn\": 50}, \"1022\": {\"name\": \"ghee\", \"pr\": 120, \"qn\": 20}, \"1023\": {\"name\": \"buttermilk\", \"pr\": 16, \"qn\": 40}, \"1024\": {\"name\": \"butter \", \"pr\": 10, \"qn\": 50}, \"1025\": {\"name\": \"cheese \", \"pr\": 12, \"qn\": 60}, \"1026\": {\"name\": \"paneer \", \"pr\": 38, \"qn\": 27}, \"1027\": {\"name\": \"lassi \", \"pr\": 20, \"qn\": 0}, \"1028\": {\"name\": \"icecream \", \"pr\": 30, \"qn\": 25}, \"1029\": {\"name\": \"shrikhand \", \"pr\": 70, \"qn\": 30}, \"1030\": {\"name\": \"soup\", \"pr\": 15, \"qn\": 0}}'"
      ]
     },
     "execution_count": 44,
     "metadata": {},
     "output_type": "execute_result"
    }
   ],
   "source": [
    "js"
   ]
  },
  {
   "cell_type": "code",
   "execution_count": 45,
   "id": "9d50fa6c",
   "metadata": {},
   "outputs": [
    {
     "data": {
      "text/plain": [
       "str"
      ]
     },
     "execution_count": 45,
     "metadata": {},
     "output_type": "execute_result"
    }
   ],
   "source": [
    "type(js)\n"
   ]
  },
  {
   "cell_type": "code",
   "execution_count": 46,
   "id": "228c0696",
   "metadata": {},
   "outputs": [
    {
     "data": {
      "text/plain": [
       "dict"
      ]
     },
     "execution_count": 46,
     "metadata": {},
     "output_type": "execute_result"
    }
   ],
   "source": [
    "type(record)"
   ]
  },
  {
   "cell_type": "code",
   "execution_count": 47,
   "id": "43bc5d3e",
   "metadata": {},
   "outputs": [],
   "source": [
    "fd = open('records.json','w')\n",
    "txt = fd.write(js)\n",
    "fd.close()"
   ]
  },
  {
   "cell_type": "code",
   "execution_count": 48,
   "id": "8cb6f0a4",
   "metadata": {},
   "outputs": [],
   "source": [
    "fd = open('records.json','r')\n",
    "txt = fd.read()\n",
    "fd.close()"
   ]
  },
  {
   "cell_type": "code",
   "execution_count": 49,
   "id": "4aa53239",
   "metadata": {},
   "outputs": [
    {
     "data": {
      "text/plain": [
       "'{\"1001\": {\"name\": \"Choco Cake\", \"pr\": 80, \"qn\": 34}, \"1002\": {\"name\": \"Milk Cake\", \"pr\": 500, \"qn\": 100}, \"1003\": {\"name\": \"Drink\", \"pr\": 35, \"qn\": 100}, \"1004\": {\"name\": \"Candy\", \"pr\": 5, \"qn\": 1000}, \"1005\": {\"name\": \"Pen\", \"pr\": 15, \"qn\": 100}, \"1006\": {\"name\": \"Rice\", \"pr\": 120, \"qn\": 10}, \"1007\": {\"name\": \"wheat\", \"pr\": 30, \"qn\": 0}, \"1008\": {\"name\": \"Sugar\", \"pr\": 38, \"qn\": 5}, \"1009\": {\"name\": \"tea\", \"pr\": 15, \"qn\": 20}, \"1010\": {\"name\": \"brush\", \"pr\": 20, \"qn\": 100}, \"1011\": {\"name\": \"toothpaste\", \"pr\": 20, \"qn\": 100}, \"1012\": {\"name\": \"biscuit \", \"pr\": 30, \"qn\": 0}, \"1013\": {\"name\": \"edible oil\", \"pr\": 120, \"qn\": 50}, \"1014\": {\"name\": \"coconut oil\", \"pr\": 20, \"qn\": 30}, \"1015\": {\"name\": \"shampoo\", \"pr\": 15, \"qn\": 30}, \"1016\": {\"name\": \"milk\", \"pr\": 26, \"qn\": 60}, \"1017\": {\"name\": \"chat masala \", \"pr\": 12, \"qn\": 50}, \"1018\": {\"name\": \"chilli powder\", \"pr\": 30, \"qn\": 70}, \"1019\": {\"name\": \"matchstick\", \"pr\": 19, \"qn\": 150}, \"1020\": {\"name\": \"salt\", \"pr\": 40, \"qn\": 60}, \"1021\": {\"name\": \"bread\", \"pr\": 20, \"qn\": 50}, \"1022\": {\"name\": \"ghee\", \"pr\": 120, \"qn\": 20}, \"1023\": {\"name\": \"buttermilk\", \"pr\": 16, \"qn\": 40}, \"1024\": {\"name\": \"butter \", \"pr\": 10, \"qn\": 50}, \"1025\": {\"name\": \"cheese \", \"pr\": 12, \"qn\": 60}, \"1026\": {\"name\": \"paneer \", \"pr\": 38, \"qn\": 27}, \"1027\": {\"name\": \"lassi \", \"pr\": 20, \"qn\": 0}, \"1028\": {\"name\": \"icecream \", \"pr\": 30, \"qn\": 25}, \"1029\": {\"name\": \"shrikhand \", \"pr\": 70, \"qn\": 30}, \"1030\": {\"name\": \"soup\", \"pr\": 15, \"qn\": 0}}'"
      ]
     },
     "execution_count": 49,
     "metadata": {},
     "output_type": "execute_result"
    }
   ],
   "source": [
    "txt"
   ]
  },
  {
   "cell_type": "markdown",
   "id": "c4e7f9d2",
   "metadata": {},
   "source": [
    "# Add New Item To Inventory"
   ]
  },
  {
   "cell_type": "code",
   "execution_count": 35,
   "id": "6cfe4d85",
   "metadata": {},
   "outputs": [
    {
     "name": "stdout",
     "output_type": "stream",
     "text": [
      "Enter product id : 1030\n",
      "Enter product name : soup\n",
      "Enter product price : 15\n",
      "Enter product quantity : 0\n"
     ]
    }
   ],
   "source": [
    "product_id = int(input(\"Enter product id : \"))\n",
    "name = input(\"Enter product name : \")\n",
    "price = int(input(\"Enter product price : \"))\n",
    "quantity = int(input(\"Enter product quantity : \"))\n",
    "record[product_id] = {'name':name,'pr':price,'qn':quantity}\n",
    "\n",
    "js = json.dumps(record)\n",
    "\n",
    "fd = open(\"records.json\",'w')\n",
    "fd.write(js)\n",
    "fd.close()"
   ]
  },
  {
   "cell_type": "code",
   "execution_count": 38,
   "id": "e98ce8c8",
   "metadata": {},
   "outputs": [],
   "source": [
    "key = record.keys()"
   ]
  },
  {
   "cell_type": "code",
   "execution_count": 39,
   "id": "3e0d8449",
   "metadata": {},
   "outputs": [],
   "source": [
    "value = record.values()"
   ]
  },
  {
   "cell_type": "markdown",
   "id": "eb46a73e",
   "metadata": {},
   "source": [
    "# Print All Product Names"
   ]
  },
  {
   "cell_type": "code",
   "execution_count": 40,
   "id": "fb91cc8c",
   "metadata": {},
   "outputs": [
    {
     "name": "stdout",
     "output_type": "stream",
     "text": [
      "Choco Cake\n",
      "\n",
      "Milk Cake\n",
      "\n",
      "Drink\n",
      "\n",
      "Candy\n",
      "\n",
      "Pen\n",
      "\n",
      "Rice\n",
      "\n",
      "wheat\n",
      "Product temporarily unavailable\n",
      "\n",
      "Sugar\n",
      "\n",
      "tea\n",
      "\n",
      "brush\n",
      "\n",
      "toothpaste\n",
      "\n",
      "biscuit \n",
      "Product temporarily unavailable\n",
      "\n",
      "edible oil\n",
      "\n",
      "coconut oil\n",
      "\n",
      "shampoo\n",
      "\n",
      "milk\n",
      "\n",
      "chat masala \n",
      "\n",
      "chilli powder\n",
      "\n",
      "matchstick\n",
      "\n",
      "salt\n",
      "\n",
      "bread\n",
      "\n",
      "ghee\n",
      "\n",
      "buttermilk\n",
      "\n",
      "butter \n",
      "\n",
      "cheese \n",
      "\n",
      "paneer \n",
      "\n",
      "lassi \n",
      "Product temporarily unavailable\n",
      "\n",
      "icecream \n",
      "\n",
      "shrikhand \n",
      "\n",
      "soup\n",
      "Product temporarily unavailable\n",
      "\n"
     ]
    }
   ],
   "source": [
    "for i in key:\n",
    "    if(record[i]['qn']>0):\n",
    "        print(record[i]['name'])\n",
    "        print()\n",
    "    else:\n",
    "        print(record[i]['name'])\n",
    "        print(\"Product temporarily unavailable\")\n",
    "        print()"
   ]
  },
  {
   "cell_type": "code",
   "execution_count": null,
   "id": "d233a062",
   "metadata": {},
   "outputs": [],
   "source": []
  }
 ],
 "metadata": {
  "kernelspec": {
   "display_name": "Python 3",
   "language": "python",
   "name": "python3"
  },
  "language_info": {
   "codemirror_mode": {
    "name": "ipython",
    "version": 3
   },
   "file_extension": ".py",
   "mimetype": "text/x-python",
   "name": "python",
   "nbconvert_exporter": "python",
   "pygments_lexer": "ipython3",
   "version": "3.8.8"
  }
 },
 "nbformat": 4,
 "nbformat_minor": 5
}
